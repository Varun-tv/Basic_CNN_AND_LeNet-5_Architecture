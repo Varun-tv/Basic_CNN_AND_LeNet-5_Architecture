{
  "cells": [
    {
      "cell_type": "code",
      "source": [
        "import tensorflow as  tf\n",
        "import pandas as pd\n",
        "import numpy as np\n",
        "import seaborn as sb\n",
        "import matplotlib.pyplot as plt"
      ],
      "outputs": [],
      "execution_count": 1,
      "metadata": {
        "id": "gyNX_FEHoDf7"
      }
    },
    {
      "cell_type": "code",
      "source": [
        "! pip install d2l"
      ],
      "outputs": [
        {
          "output_type": "stream",
          "name": "stdout",
          "text": "Looking in indexes: https://pypi.org/simple, https://us-python.pkg.dev/colab-wheels/public/simple/\nRequirement already satisfied: d2l in /usr/local/lib/python3.8/dist-packages (0.17.6)\nRequirement already satisfied: requests==2.25.1 in /usr/local/lib/python3.8/dist-packages (from d2l) (2.25.1)\nRequirement already satisfied: numpy==1.21.5 in /usr/local/lib/python3.8/dist-packages (from d2l) (1.21.5)\nRequirement already satisfied: jupyter==1.0.0 in /usr/local/lib/python3.8/dist-packages (from d2l) (1.0.0)\nRequirement already satisfied: pandas==1.2.4 in /usr/local/lib/python3.8/dist-packages (from d2l) (1.2.4)\nRequirement already satisfied: matplotlib==3.5.1 in /usr/local/lib/python3.8/dist-packages (from d2l) (3.5.1)\nRequirement already satisfied: notebook in /usr/local/lib/python3.8/dist-packages (from jupyter==1.0.0->d2l) (6.3.0)\nRequirement already satisfied: nbconvert in /usr/local/lib/python3.8/dist-packages (from jupyter==1.0.0->d2l) (5.6.1)\nRequirement already satisfied: ipykernel in /usr/local/lib/python3.8/dist-packages (from jupyter==1.0.0->d2l) (5.3.4)\nRequirement already satisfied: qtconsole in /usr/local/lib/python3.8/dist-packages (from jupyter==1.0.0->d2l) (5.4.0)\nRequirement already satisfied: ipywidgets in /usr/local/lib/python3.8/dist-packages (from jupyter==1.0.0->d2l) (7.7.1)\nRequirement already satisfied: jupyter-console in /usr/local/lib/python3.8/dist-packages (from jupyter==1.0.0->d2l) (6.1.0)\nRequirement already satisfied: pillow>=6.2.0 in /usr/local/lib/python3.8/dist-packages (from matplotlib==3.5.1->d2l) (7.1.2)\nRequirement already satisfied: packaging>=20.0 in /usr/local/lib/python3.8/dist-packages (from matplotlib==3.5.1->d2l) (23.0)\nRequirement already satisfied: python-dateutil>=2.7 in /usr/local/lib/python3.8/dist-packages (from matplotlib==3.5.1->d2l) (2.8.2)\nRequirement already satisfied: kiwisolver>=1.0.1 in /usr/local/lib/python3.8/dist-packages (from matplotlib==3.5.1->d2l) (1.4.4)\nRequirement already satisfied: fonttools>=4.22.0 in /usr/local/lib/python3.8/dist-packages (from matplotlib==3.5.1->d2l) (4.38.0)\nRequirement already satisfied: cycler>=0.10 in /usr/local/lib/python3.8/dist-packages (from matplotlib==3.5.1->d2l) (0.11.0)\nRequirement already satisfied: pyparsing>=2.2.1 in /usr/local/lib/python3.8/dist-packages (from matplotlib==3.5.1->d2l) (3.0.9)\nRequirement already satisfied: pytz>=2017.3 in /usr/local/lib/python3.8/dist-packages (from pandas==1.2.4->d2l) (2022.7.1)\nRequirement already satisfied: urllib3<1.27,>=1.21.1 in /usr/local/lib/python3.8/dist-packages (from requests==2.25.1->d2l) (1.24.3)\nRequirement already satisfied: certifi>=2017.4.17 in /usr/local/lib/python3.8/dist-packages (from requests==2.25.1->d2l) (2022.12.7)\nRequirement already satisfied: chardet<5,>=3.0.2 in /usr/local/lib/python3.8/dist-packages (from requests==2.25.1->d2l) (4.0.0)\nRequirement already satisfied: idna<3,>=2.5 in /usr/local/lib/python3.8/dist-packages (from requests==2.25.1->d2l) (2.10)\nRequirement already satisfied: six>=1.5 in /usr/local/lib/python3.8/dist-packages (from python-dateutil>=2.7->matplotlib==3.5.1->d2l) (1.15.0)\nRequirement already satisfied: jupyter-client in /usr/local/lib/python3.8/dist-packages (from ipykernel->jupyter==1.0.0->d2l) (6.1.12)\nRequirement already satisfied: tornado>=4.2 in /usr/local/lib/python3.8/dist-packages (from ipykernel->jupyter==1.0.0->d2l) (6.2)\nRequirement already satisfied: traitlets>=4.1.0 in /usr/local/lib/python3.8/dist-packages (from ipykernel->jupyter==1.0.0->d2l) (5.7.1)\nRequirement already satisfied: ipython>=5.0.0 in /usr/local/lib/python3.8/dist-packages (from ipykernel->jupyter==1.0.0->d2l) (7.9.0)\nRequirement already satisfied: ipython-genutils~=0.2.0 in /usr/local/lib/python3.8/dist-packages (from ipywidgets->jupyter==1.0.0->d2l) (0.2.0)\nRequirement already satisfied: jupyterlab-widgets>=1.0.0 in /usr/local/lib/python3.8/dist-packages (from ipywidgets->jupyter==1.0.0->d2l) (3.0.5)\nRequirement already satisfied: widgetsnbextension~=3.6.0 in /usr/local/lib/python3.8/dist-packages (from ipywidgets->jupyter==1.0.0->d2l) (3.6.2)\nRequirement already satisfied: prompt-toolkit!=3.0.0,!=3.0.1,<3.1.0,>=2.0.0 in /usr/local/lib/python3.8/dist-packages (from jupyter-console->jupyter==1.0.0->d2l) (2.0.10)\nRequirement already satisfied: pygments in /usr/local/lib/python3.8/dist-packages (from jupyter-console->jupyter==1.0.0->d2l) (2.6.1)\nRequirement already satisfied: testpath in /usr/local/lib/python3.8/dist-packages (from nbconvert->jupyter==1.0.0->d2l) (0.6.0)\nRequirement already satisfied: pandocfilters>=1.4.1 in /usr/local/lib/python3.8/dist-packages (from nbconvert->jupyter==1.0.0->d2l) (1.5.0)\nRequirement already satisfied: jupyter-core in /usr/local/lib/python3.8/dist-packages (from nbconvert->jupyter==1.0.0->d2l) (5.2.0)\nRequirement already satisfied: jinja2>=2.4 in /usr/local/lib/python3.8/dist-packages (from nbconvert->jupyter==1.0.0->d2l) (2.11.3)\nRequirement already satisfied: bleach in /usr/local/lib/python3.8/dist-packages (from nbconvert->jupyter==1.0.0->d2l) (6.0.0)\nRequirement already satisfied: defusedxml in /usr/local/lib/python3.8/dist-packages (from nbconvert->jupyter==1.0.0->d2l) (0.7.1)\nRequirement already satisfied: nbformat>=4.4 in /usr/local/lib/python3.8/dist-packages (from nbconvert->jupyter==1.0.0->d2l) (5.7.3)\nRequirement already satisfied: entrypoints>=0.2.2 in /usr/local/lib/python3.8/dist-packages (from nbconvert->jupyter==1.0.0->d2l) (0.4)\nRequirement already satisfied: mistune<2,>=0.8.1 in /usr/local/lib/python3.8/dist-packages (from nbconvert->jupyter==1.0.0->d2l) (0.8.4)\nRequirement already satisfied: Send2Trash>=1.5.0 in /usr/local/lib/python3.8/dist-packages (from notebook->jupyter==1.0.0->d2l) (1.8.0)\nRequirement already satisfied: terminado>=0.8.3 in /usr/local/lib/python3.8/dist-packages (from notebook->jupyter==1.0.0->d2l) (0.13.3)\nRequirement already satisfied: prometheus-client in /usr/local/lib/python3.8/dist-packages (from notebook->jupyter==1.0.0->d2l) (0.16.0)\nRequirement already satisfied: pyzmq>=17 in /usr/local/lib/python3.8/dist-packages (from notebook->jupyter==1.0.0->d2l) (23.2.1)\nRequirement already satisfied: argon2-cffi in /usr/local/lib/python3.8/dist-packages (from notebook->jupyter==1.0.0->d2l) (21.3.0)\nRequirement already satisfied: qtpy>=2.0.1 in /usr/local/lib/python3.8/dist-packages (from qtconsole->jupyter==1.0.0->d2l) (2.3.0)\nRequirement already satisfied: setuptools>=18.5 in /usr/local/lib/python3.8/dist-packages (from ipython>=5.0.0->ipykernel->jupyter==1.0.0->d2l) (57.4.0)\nRequirement already satisfied: pickleshare in /usr/local/lib/python3.8/dist-packages (from ipython>=5.0.0->ipykernel->jupyter==1.0.0->d2l) (0.7.5)\nRequirement already satisfied: backcall in /usr/local/lib/python3.8/dist-packages (from ipython>=5.0.0->ipykernel->jupyter==1.0.0->d2l) (0.2.0)\nRequirement already satisfied: pexpect in /usr/local/lib/python3.8/dist-packages (from ipython>=5.0.0->ipykernel->jupyter==1.0.0->d2l) (4.8.0)\nRequirement already satisfied: decorator in /usr/local/lib/python3.8/dist-packages (from ipython>=5.0.0->ipykernel->jupyter==1.0.0->d2l) (4.4.2)\nRequirement already satisfied: jedi>=0.10 in /usr/local/lib/python3.8/dist-packages (from ipython>=5.0.0->ipykernel->jupyter==1.0.0->d2l) (0.18.2)\nRequirement already satisfied: MarkupSafe>=0.23 in /usr/local/lib/python3.8/dist-packages (from jinja2>=2.4->nbconvert->jupyter==1.0.0->d2l) (2.0.1)\nRequirement already satisfied: platformdirs>=2.5 in /usr/local/lib/python3.8/dist-packages (from jupyter-core->nbconvert->jupyter==1.0.0->d2l) (3.0.0)\nRequirement already satisfied: fastjsonschema in /usr/local/lib/python3.8/dist-packages (from nbformat>=4.4->nbconvert->jupyter==1.0.0->d2l) (2.16.2)\nRequirement already satisfied: jsonschema>=2.6 in /usr/local/lib/python3.8/dist-packages (from nbformat>=4.4->nbconvert->jupyter==1.0.0->d2l) (4.3.3)\nRequirement already satisfied: wcwidth in /usr/local/lib/python3.8/dist-packages (from prompt-toolkit!=3.0.0,!=3.0.1,<3.1.0,>=2.0.0->jupyter-console->jupyter==1.0.0->d2l) (0.2.6)\nRequirement already satisfied: ptyprocess in /usr/local/lib/python3.8/dist-packages (from terminado>=0.8.3->notebook->jupyter==1.0.0->d2l) (0.7.0)\nRequirement already satisfied: argon2-cffi-bindings in /usr/local/lib/python3.8/dist-packages (from argon2-cffi->notebook->jupyter==1.0.0->d2l) (21.2.0)\nRequirement already satisfied: webencodings in /usr/local/lib/python3.8/dist-packages (from bleach->nbconvert->jupyter==1.0.0->d2l) (0.5.1)\nRequirement already satisfied: parso<0.9.0,>=0.8.0 in /usr/local/lib/python3.8/dist-packages (from jedi>=0.10->ipython>=5.0.0->ipykernel->jupyter==1.0.0->d2l) (0.8.3)\nRequirement already satisfied: importlib-resources>=1.4.0 in /usr/local/lib/python3.8/dist-packages (from jsonschema>=2.6->nbformat>=4.4->nbconvert->jupyter==1.0.0->d2l) (5.12.0)\nRequirement already satisfied: attrs>=17.4.0 in /usr/local/lib/python3.8/dist-packages (from jsonschema>=2.6->nbformat>=4.4->nbconvert->jupyter==1.0.0->d2l) (22.2.0)\nRequirement already satisfied: pyrsistent!=0.17.0,!=0.17.1,!=0.17.2,>=0.14.0 in /usr/local/lib/python3.8/dist-packages (from jsonschema>=2.6->nbformat>=4.4->nbconvert->jupyter==1.0.0->d2l) (0.19.3)\nRequirement already satisfied: cffi>=1.0.1 in /usr/local/lib/python3.8/dist-packages (from argon2-cffi-bindings->argon2-cffi->notebook->jupyter==1.0.0->d2l) (1.15.1)\nRequirement already satisfied: pycparser in /usr/local/lib/python3.8/dist-packages (from cffi>=1.0.1->argon2-cffi-bindings->argon2-cffi->notebook->jupyter==1.0.0->d2l) (2.21)\nRequirement already satisfied: zipp>=3.1.0 in /usr/local/lib/python3.8/dist-packages (from importlib-resources>=1.4.0->jsonschema>=2.6->nbformat>=4.4->nbconvert->jupyter==1.0.0->d2l) (3.14.0)\n"
        }
      ],
      "execution_count": 2,
      "metadata": {
        "colab": {
          "base_uri": "https://localhost:8080/"
        },
        "id": "8-no1erJofBu",
        "outputId": "31952dbd-081d-445b-c3a3-fae152bf2f88"
      }
    },
    {
      "cell_type": "code",
      "source": [
        "import sys\n",
        "!{sys.executable} -m pip install matplotlib"
      ],
      "outputs": [
        {
          "output_type": "stream",
          "name": "stdout",
          "text": "Looking in indexes: https://pypi.org/simple, https://us-python.pkg.dev/colab-wheels/public/simple/\nRequirement already satisfied: matplotlib in /usr/local/lib/python3.8/dist-packages (3.5.1)\nRequirement already satisfied: kiwisolver>=1.0.1 in /usr/local/lib/python3.8/dist-packages (from matplotlib) (1.4.4)\nRequirement already satisfied: numpy>=1.17 in /usr/local/lib/python3.8/dist-packages (from matplotlib) (1.21.5)\nRequirement already satisfied: pyparsing>=2.2.1 in /usr/local/lib/python3.8/dist-packages (from matplotlib) (3.0.9)\nRequirement already satisfied: fonttools>=4.22.0 in /usr/local/lib/python3.8/dist-packages (from matplotlib) (4.38.0)\nRequirement already satisfied: python-dateutil>=2.7 in /usr/local/lib/python3.8/dist-packages (from matplotlib) (2.8.2)\nRequirement already satisfied: packaging>=20.0 in /usr/local/lib/python3.8/dist-packages (from matplotlib) (23.0)\nRequirement already satisfied: cycler>=0.10 in /usr/local/lib/python3.8/dist-packages (from matplotlib) (0.11.0)\nRequirement already satisfied: pillow>=6.2.0 in /usr/local/lib/python3.8/dist-packages (from matplotlib) (7.1.2)\nRequirement already satisfied: six>=1.5 in /usr/local/lib/python3.8/dist-packages (from python-dateutil>=2.7->matplotlib) (1.15.0)\n"
        }
      ],
      "execution_count": 3,
      "metadata": {
        "colab": {
          "base_uri": "https://localhost:8080/"
        },
        "id": "jo45dad8oy4T",
        "outputId": "4ea8edac-8637-42a5-fc84-67fae85cf9dc"
      }
    },
    {
      "cell_type": "code",
      "source": [
        "%pip install matplotlib-inline\n"
      ],
      "outputs": [
        {
          "output_type": "stream",
          "name": "stdout",
          "text": "Looking in indexes: https://pypi.org/simple, https://us-python.pkg.dev/colab-wheels/public/simple/\nRequirement already satisfied: matplotlib-inline in /usr/local/lib/python3.8/dist-packages (0.1.6)\nRequirement already satisfied: traitlets in /usr/local/lib/python3.8/dist-packages (from matplotlib-inline) (5.7.1)\n"
        }
      ],
      "execution_count": 4,
      "metadata": {
        "colab": {
          "base_uri": "https://localhost:8080/"
        },
        "id": "lJwFshWEo6Ls",
        "outputId": "b5f84c13-4a3a-483f-ddac-484983beb14f"
      }
    },
    {
      "cell_type": "code",
      "source": [
        "from d2l import tensorflow as d2l"
      ],
      "outputs": [],
      "execution_count": 5,
      "metadata": {
        "id": "UjPc-NnKn6ZH"
      }
    },
    {
      "cell_type": "code",
      "source": [
        "mnist = tf.keras.datasets.mnist\n",
        "(x_train, y_train),(x_test, y_test) = mnist.load_data()"
      ],
      "outputs": [],
      "execution_count": 7,
      "metadata": {
        "id": "lonLGEcxoDn_"
      }
    },
    {
      "cell_type": "code",
      "source": [
        "x_train = x_train.reshape(x_train.shape[0], 28, 28, 1)\n",
        "x_test = x_test.reshape(x_test.shape[0], 28, 28, 1)"
      ],
      "outputs": [],
      "execution_count": null,
      "metadata": {
        "id": "ApVwqrgypG9Y"
      }
    },
    {
      "cell_type": "code",
      "source": [
        "x_train = tf.keras.utils.normalize(x_train, axis=1)  \n",
        "x_test = tf.keras.utils.normalize(x_test, axis=1)"
      ],
      "outputs": [],
      "execution_count": null,
      "metadata": {
        "id": "lhCCxE5xpdUR"
      }
    },
    {
      "cell_type": "code",
      "source": [
        "y_train1 = tf.keras.utils.to_categorical(y_train, num_classes=10)\n",
        "y_test1 = tf.keras.utils.to_categorical(y_test, num_classes=10)"
      ],
      "outputs": [],
      "execution_count": null,
      "metadata": {
        "id": "4gI8vnHuq-YM"
      }
    },
    {
      "cell_type": "markdown",
      "source": [
        "1. Design a CNN with:\n",
        "a) One Convolution layer which uses 32 kernels each of size 5x5, stride = 1 and, padding =0\n",
        "b) One Pooling layer which uses MAXPOOLING with stride =2.\n",
        "c) One hidden layer having number of neurons = 100"
      ],
      "metadata": {
        "id": "1gtl-oyZsVPm"
      }
    },
    {
      "cell_type": "code",
      "source": [
        "from keras.models import Sequential\n",
        "from keras.layers import Dense, Dropout, Activation, Flatten\n",
        "from keras.layers import Conv2D, MaxPooling2D\n",
        "model = Sequential()\n",
        "model.add(Conv2D(filters=32, kernel_size=(5, 5), activation='ReLU', input_shape=(28,28,1),strides=1,padding=\"same\"))\n",
        "model.add(MaxPooling2D())\n",
        "model.add(Flatten())\n",
        "model.add(Dense(units=100, activation='tanh'))\n",
        "model.add(Dense(units=10, activation = 'softmax'))\n",
        "model.summary()"
      ],
      "outputs": [
        {
          "output_type": "stream",
          "name": "stdout",
          "text": "Model: \"sequential\"\n_________________________________________________________________\n Layer (type)                Output Shape              Param #   \n=================================================================\n conv2d (Conv2D)             (None, 28, 28, 32)        832       \n                                                                 \n max_pooling2d (MaxPooling2D  (None, 14, 14, 32)       0         \n )                                                               \n                                                                 \n flatten (Flatten)           (None, 6272)              0         \n                                                                 \n dense (Dense)               (None, 100)               627300    \n                                                                 \n dense_1 (Dense)             (None, 10)                1010      \n                                                                 \n=================================================================\nTotal params: 629,142\nTrainable params: 629,142\nNon-trainable params: 0\n_________________________________________________________________\n"
        }
      ],
      "execution_count": 8,
      "metadata": {
        "colab": {
          "base_uri": "https://localhost:8080/"
        },
        "id": "VAbKWPnkpfck",
        "outputId": "70d140c6-1595-40dd-fe77-c84a9a299e1d"
      }
    },
    {
      "cell_type": "code",
      "source": [
        "model.compile(optimizer='adam',loss='sparse_categorical_crossentropy',metrics=['accuracy'])"
      ],
      "outputs": [],
      "execution_count": null,
      "metadata": {
        "id": "ETw_0gh-p-_N"
      }
    },
    {
      "cell_type": "code",
      "source": [
        "model.fit(x_train, y_train,epochs=10,validation_data=(x_test, y_test))"
      ],
      "outputs": [
        {
          "output_type": "stream",
          "name": "stdout",
          "text": "Epoch 1/10\n1875/1875 [==============================] - 79s 41ms/step - loss: 0.1617 - accuracy: 0.9512 - val_loss: 0.0657 - val_accuracy: 0.9795\nEpoch 2/10\n1875/1875 [==============================] - 80s 43ms/step - loss: 0.0532 - accuracy: 0.9835 - val_loss: 0.0513 - val_accuracy: 0.9842\nEpoch 3/10\n1875/1875 [==============================] - 77s 41ms/step - loss: 0.0348 - accuracy: 0.9891 - val_loss: 0.0451 - val_accuracy: 0.9865\nEpoch 4/10\n1875/1875 [==============================] - 76s 40ms/step - loss: 0.0241 - accuracy: 0.9926 - val_loss: 0.0411 - val_accuracy: 0.9878\nEpoch 5/10\n1875/1875 [==============================] - 75s 40ms/step - loss: 0.0152 - accuracy: 0.9959 - val_loss: 0.0451 - val_accuracy: 0.9854\nEpoch 6/10\n1875/1875 [==============================] - 76s 41ms/step - loss: 0.0105 - accuracy: 0.9972 - val_loss: 0.0439 - val_accuracy: 0.9865\nEpoch 7/10\n1875/1875 [==============================] - 76s 41ms/step - loss: 0.0082 - accuracy: 0.9977 - val_loss: 0.0453 - val_accuracy: 0.9865\nEpoch 8/10\n1875/1875 [==============================] - 76s 41ms/step - loss: 0.0050 - accuracy: 0.9987 - val_loss: 0.0495 - val_accuracy: 0.9864\nEpoch 9/10\n1875/1875 [==============================] - 74s 39ms/step - loss: 0.0032 - accuracy: 0.9993 - val_loss: 0.0453 - val_accuracy: 0.9867\nEpoch 10/10\n1875/1875 [==============================] - 73s 39ms/step - loss: 0.0040 - accuracy: 0.9990 - val_loss: 0.0561 - val_accuracy: 0.9858\n"
        },
        {
          "output_type": "execute_result",
          "execution_count": 33,
          "data": {
            "text/plain": "<keras.callbacks.History at 0x7fdae30965e0>"
          },
          "metadata": {}
        }
      ],
      "execution_count": null,
      "metadata": {
        "colab": {
          "base_uri": "https://localhost:8080/"
        },
        "id": "fGGhi5b7rzCN",
        "outputId": "28bf5d95-0b45-4484-e4fc-16fd237df766"
      }
    },
    {
      "cell_type": "code",
      "source": [
        "predictions = model.predict(x_test)\n",
        "print(np.argmax(predictions[87]))"
      ],
      "outputs": [
        {
          "output_type": "stream",
          "name": "stdout",
          "text": "313/313 [==============================] - 3s 10ms/step\n3\n"
        }
      ],
      "execution_count": null,
      "metadata": {
        "colab": {
          "base_uri": "https://localhost:8080/"
        },
        "id": "N6n2wp_zu9FV",
        "outputId": "58e5d59d-7fd7-4106-f5f5-fe213157a72e"
      }
    },
    {
      "cell_type": "code",
      "source": [
        "plt.imshow(x_test[87],cmap=plt.cm.binary)\n",
        "plt.show()"
      ],
      "outputs": [
        {
          "output_type": "display_data",
          "data": {
            "text/plain": "<Figure size 432x288 with 1 Axes>",
            "image/png": "[encoded data removed]"
          },
          "metadata": {
            "needs_background": "light"
          }
        }
      ],
      "execution_count": null,
      "metadata": {
        "colab": {
          "base_uri": "https://localhost:8080/",
          "height": 265
        },
        "id": "Nh9UWkJ5vR4r",
        "outputId": "19bd1f05-643d-4ec5-a5b2-a5bc081546e6"
      }
    },
    {
      "cell_type": "code",
      "source": [
        "print(x_train.shape)\n",
        "print(y_train1.shape)\n",
        "print(x_test.shape)\n",
        "print(y_test1.shape)"
      ],
      "outputs": [
        {
          "output_type": "stream",
          "name": "stdout",
          "text": "(60000, 28, 28, 1)\n(60000, 10)\n(10000, 28, 28, 1)\n(10000, 10)\n"
        }
      ],
      "execution_count": null,
      "metadata": {
        "colab": {
          "base_uri": "https://localhost:8080/"
        },
        "id": "bVv8FwfhxCpi",
        "outputId": "979b877e-a76f-450c-f873-b780727e7500"
      }
    },
    {
      "cell_type": "code",
      "source": [
        "test_loss, test_acc= model.evaluate(x_test,y_test,verbose=2)"
      ],
      "outputs": [
        {
          "output_type": "stream",
          "name": "stdout",
          "text": "313/313 - 3s - loss: 0.0561 - accuracy: 0.9858 - 3s/epoch - 9ms/step\n"
        }
      ],
      "execution_count": null,
      "metadata": {
        "colab": {
          "base_uri": "https://localhost:8080/"
        },
        "id": "sijlfS_Swc0h",
        "outputId": "61a3a768-aa42-4a90-e56e-2799cab5c921"
      }
    },
    {
      "cell_type": "markdown",
      "source": [
        "2. Design a CNN with:\n",
        "a) Two back-to-back Convolution layers which uses 32 kernels each of size 3x3, stride = 1 and, padding =0\n",
        "b) One Pooling layer which uses MAXPOOLING with stride =2.\n",
        "c) One hidden layer having number of neurons = 100\n",
        "Note: use ReLU activation function after each convolution layer."
      ],
      "metadata": {
        "id": "Wz9lms1nxxYA"
      }
    },
    {
      "cell_type": "code",
      "source": [
        "model2 = Sequential()\n",
        "model2.add(Conv2D(filters=32, kernel_size=(3, 3), activation='ReLU', input_shape=(28,28,1),strides=1,padding=\"same\"))\n",
        "model2.add(Conv2D(filters=32, kernel_size=(3, 3), activation='ReLU',strides=1,padding=\"same\"))\n",
        "model2.add(MaxPooling2D())\n",
        "model2.add(Flatten())\n",
        "model2.add(Dense(units=100, activation='tanh'))\n",
        "model2.add(Dense(units=10, activation = 'softmax'))\n",
        "model2.summary()"
      ],
      "outputs": [
        {
          "output_type": "stream",
          "name": "stdout",
          "text": "Model: \"sequential_2\"\n_________________________________________________________________\n Layer (type)                Output Shape              Param #   \n=================================================================\n conv2d_3 (Conv2D)           (None, 28, 28, 32)        320       \n                                                                 \n conv2d_4 (Conv2D)           (None, 28, 28, 32)        9248      \n                                                                 \n max_pooling2d_2 (MaxPooling  (None, 14, 14, 32)       0         \n 2D)                                                             \n                                                                 \n flatten_2 (Flatten)         (None, 6272)              0         \n                                                                 \n dense_4 (Dense)             (None, 100)               627300    \n                                                                 \n dense_5 (Dense)             (None, 10)                1010      \n                                                                 \n=================================================================\nTotal params: 637,878\nTrainable params: 637,878\nNon-trainable params: 0\n_________________________________________________________________\n"
        }
      ],
      "execution_count": 10,
      "metadata": {
        "colab": {
          "base_uri": "https://localhost:8080/"
        },
        "id": "uwLSG3ZIvXgn",
        "outputId": "e95bd250-4176-4d91-a7d0-7b376517aa8f"
      }
    },
    {
      "cell_type": "code",
      "source": [
        "model2.compile(optimizer='adam',loss='sparse_categorical_crossentropy',metrics=['accuracy'])"
      ],
      "outputs": [],
      "execution_count": 11,
      "metadata": {
        "id": "8dS2Y3FFx8UB"
      }
    },
    {
      "cell_type": "code",
      "source": [
        "model2.fit(x_train, y_train,epochs=10,validation_data=(x_test, y_test))"
      ],
      "outputs": [
        {
          "output_type": "stream",
          "name": "stdout",
          "text": "Epoch 1/10\n1875/1875 [==============================] - 18s 5ms/step - loss: 0.4338 - accuracy: 0.8765 - val_loss: 0.1785 - val_accuracy: 0.9485\nEpoch 2/10\n1875/1875 [==============================] - 7s 4ms/step - loss: 0.1865 - accuracy: 0.9434 - val_loss: 0.1560 - val_accuracy: 0.9524\nEpoch 3/10\n1875/1875 [==============================] - 9s 5ms/step - loss: 0.1551 - accuracy: 0.9518 - val_loss: 0.1351 - val_accuracy: 0.9582\nEpoch 4/10\n1875/1875 [==============================] - 7s 4ms/step - loss: 0.1539 - accuracy: 0.9531 - val_loss: 0.1384 - val_accuracy: 0.9567\nEpoch 5/10\n1875/1875 [==============================] - 10s 5ms/step - loss: 0.1431 - accuracy: 0.9556 - val_loss: 0.1891 - val_accuracy: 0.9423\nEpoch 6/10\n1875/1875 [==============================] - 8s 4ms/step - loss: 0.1454 - accuracy: 0.9553 - val_loss: 0.1271 - val_accuracy: 0.9621\nEpoch 7/10\n1875/1875 [==============================] - 8s 4ms/step - loss: 0.1346 - accuracy: 0.9581 - val_loss: 0.1246 - val_accuracy: 0.9602\nEpoch 8/10\n1875/1875 [==============================] - 9s 5ms/step - loss: 0.1506 - accuracy: 0.9542 - val_loss: 0.1672 - val_accuracy: 0.9468\nEpoch 9/10\n1875/1875 [==============================] - 8s 4ms/step - loss: 0.1766 - accuracy: 0.9455 - val_loss: 0.3135 - val_accuracy: 0.9009\nEpoch 10/10\n1875/1875 [==============================] - 8s 4ms/step - loss: 0.1732 - accuracy: 0.9472 - val_loss: 0.1352 - val_accuracy: 0.9579\n"
        },
        {
          "output_type": "execute_result",
          "execution_count": 12,
          "data": {
            "text/plain": "<keras.callbacks.History at 0x7fe4601160d0>"
          },
          "metadata": {}
        }
      ],
      "execution_count": 12,
      "metadata": {
        "colab": {
          "base_uri": "https://localhost:8080/"
        },
        "id": "ozjM9rxryCnO",
        "outputId": "41c7def9-8c01-433d-a721-c85e426482c8"
      }
    },
    {
      "cell_type": "code",
      "source": [
        "predictions2 = model2.predict(x_test)\n",
        "print(np.argmax(predictions2[87]))"
      ],
      "outputs": [
        {
          "output_type": "stream",
          "name": "stdout",
          "text": "313/313 [==============================] - 1s 2ms/step\n3\n"
        }
      ],
      "execution_count": 14,
      "metadata": {
        "colab": {
          "base_uri": "https://localhost:8080/"
        },
        "id": "VboLB3_yyKAC",
        "outputId": "e99af992-8b7a-434b-a50e-11542c0ffbc9"
      }
    },
    {
      "cell_type": "code",
      "source": [
        "plt.imshow(x_test[87],cmap=plt.cm.binary)\n",
        "plt.show()"
      ],
      "outputs": [
        {
          "output_type": "display_data",
          "data": {
            "text/plain": "<Figure size 432x288 with 1 Axes>",
            "image/png": "[encoded data removed]"
          },
          "metadata": {
            "needs_background": "light"
          }
        }
      ],
      "execution_count": 15,
      "metadata": {
        "colab": {
          "base_uri": "https://localhost:8080/",
          "height": 265
        },
        "id": "09n2GUiS06RF",
        "outputId": "323258a1-bf6a-408c-ee2a-aac4db6284da"
      }
    },
    {
      "cell_type": "code",
      "source": [
        "test_loss, test_acc= model2.evaluate(x_test,y_test,verbose=2)"
      ],
      "outputs": [
        {
          "output_type": "stream",
          "name": "stdout",
          "text": "313/313 - 1s - loss: 0.1352 - accuracy: 0.9579 - 1s/epoch - 3ms/step\n"
        }
      ],
      "execution_count": 16,
      "metadata": {
        "colab": {
          "base_uri": "https://localhost:8080/"
        },
        "id": "oWLmxGoy094Q",
        "outputId": "56fda14c-1bc4-4ece-e7fd-7427ed64cabb"
      }
    },
    {
      "cell_type": "code",
      "source": [
        "from keras.layers import AveragePooling2D\n",
        "\n",
        "lenet = Sequential()\n",
        "lenet.add(Conv2D(filters=6, kernel_size=(5, 5), activation='tanh', input_shape=(28,28,1)))\n",
        "lenet.add(AveragePooling2D())\n",
        "lenet.add(Conv2D(filters=16, kernel_size=(5, 5), activation='tanh'))\n",
        "lenet.add(AveragePooling2D())\n",
        "lenet.add(Flatten())\n",
        "lenet.add(Dense(units=120, activation='sigmoid'))\n",
        "lenet.add(Dense(units=84, activation='sigmoid'))\n",
        "lenet.add(Dense(units=10, activation = 'softmax')) \n",
        "lenet.summary()"
      ],
      "outputs": [
        {
          "output_type": "stream",
          "name": "stdout",
          "text": "Model: \"sequential_11\"\n_________________________________________________________________\n Layer (type)                Output Shape              Param #   \n=================================================================\n conv2d_12 (Conv2D)          (None, 24, 24, 6)         156       \n                                                                 \n average_pooling2d_4 (Averag  (None, 12, 12, 6)        0         \n ePooling2D)                                                     \n                                                                 \n conv2d_13 (Conv2D)          (None, 8, 8, 16)          2416      \n                                                                 \n average_pooling2d_5 (Averag  (None, 4, 4, 16)         0         \n ePooling2D)                                                     \n                                                                 \n flatten_7 (Flatten)         (None, 256)               0         \n                                                                 \n dense_16 (Dense)            (None, 120)               30840     \n                                                                 \n dense_17 (Dense)            (None, 84)                10164     \n                                                                 \n dense_18 (Dense)            (None, 10)                850       \n                                                                 \n=================================================================\nTotal params: 44,426\nTrainable params: 44,426\nNon-trainable params: 0\n_________________________________________________________________\n"
        }
      ],
      "execution_count": null,
      "metadata": {
        "colab": {
          "base_uri": "https://localhost:8080/"
        },
        "id": "8GiaVDos1DFF",
        "outputId": "94fb24fb-66ac-4ba2-b838-07f691b7c702"
      }
    },
    {
      "cell_type": "code",
      "source": [
        "lenet.compile(optimizer='adam',loss='sparse_categorical_crossentropy',metrics=['accuracy'])"
      ],
      "outputs": [],
      "execution_count": null,
      "metadata": {
        "id": "KVW08Sk22mwD"
      }
    },
    {
      "cell_type": "code",
      "source": [
        "lenet.fit(x_train, y_train,epochs=10,validation_data=(x_test, y_test))"
      ],
      "outputs": [
        {
          "output_type": "stream",
          "name": "stdout",
          "text": "Epoch 1/10\n1875/1875 [==============================] - 43s 23ms/step - loss: 0.4106 - accuracy: 0.8852 - val_loss: 0.1368 - val_accuracy: 0.9593\nEpoch 2/10\n1875/1875 [==============================] - 38s 20ms/step - loss: 0.1131 - accuracy: 0.9662 - val_loss: 0.0856 - val_accuracy: 0.9739\nEpoch 3/10\n1875/1875 [==============================] - 39s 21ms/step - loss: 0.0766 - accuracy: 0.9765 - val_loss: 0.0740 - val_accuracy: 0.9771\nEpoch 4/10\n1875/1875 [==============================] - 40s 21ms/step - loss: 0.0599 - accuracy: 0.9819 - val_loss: 0.0537 - val_accuracy: 0.9831\nEpoch 5/10\n1875/1875 [==============================] - 40s 21ms/step - loss: 0.0493 - accuracy: 0.9847 - val_loss: 0.0579 - val_accuracy: 0.9826\nEpoch 6/10\n1875/1875 [==============================] - 39s 21ms/step - loss: 0.0418 - accuracy: 0.9869 - val_loss: 0.0470 - val_accuracy: 0.9856\nEpoch 7/10\n1875/1875 [==============================] - 39s 21ms/step - loss: 0.0366 - accuracy: 0.9888 - val_loss: 0.0444 - val_accuracy: 0.9859\nEpoch 8/10\n1875/1875 [==============================] - 45s 24ms/step - loss: 0.0306 - accuracy: 0.9905 - val_loss: 0.0455 - val_accuracy: 0.9854\nEpoch 9/10\n1875/1875 [==============================] - 40s 21ms/step - loss: 0.0271 - accuracy: 0.9916 - val_loss: 0.0440 - val_accuracy: 0.9860\nEpoch 10/10\n1875/1875 [==============================] - 40s 21ms/step - loss: 0.0231 - accuracy: 0.9930 - val_loss: 0.0450 - val_accuracy: 0.9867\n"
        },
        {
          "output_type": "execute_result",
          "execution_count": 72,
          "data": {
            "text/plain": "<keras.callbacks.History at 0x7fdadf24e8b0>"
          },
          "metadata": {}
        }
      ],
      "execution_count": null,
      "metadata": {
        "colab": {
          "base_uri": "https://localhost:8080/"
        },
        "id": "QQwZ823LFuG-",
        "outputId": "13748b74-7393-4832-a518-4c741cf93fac"
      }
    },
    {
      "cell_type": "code",
      "source": [
        "predictions3 = lenet.predict(x_test)\n",
        "print(np.argmax(predictions[87]))"
      ],
      "outputs": [
        {
          "output_type": "stream",
          "name": "stdout",
          "text": "313/313 [==============================] - 2s 8ms/step\n3\n"
        }
      ],
      "execution_count": null,
      "metadata": {
        "colab": {
          "base_uri": "https://localhost:8080/"
        },
        "id": "HAdbImQpFxOn",
        "outputId": "f51251eb-1531-42da-d88a-531166ad7d2d"
      }
    },
    {
      "cell_type": "code",
      "source": [
        "test_loss, test_acc= lenet.evaluate(x_test,y_test,verbose=2)"
      ],
      "outputs": [
        {
          "output_type": "stream",
          "name": "stdout",
          "text": "313/313 - 4s - loss: 0.0450 - accuracy: 0.9867 - 4s/epoch - 13ms/step\n"
        }
      ],
      "execution_count": null,
      "metadata": {
        "colab": {
          "base_uri": "https://localhost:8080/"
        },
        "id": "mH46ctPvHyym",
        "outputId": "684ed7ac-6424-4251-dafc-8af36a3d7e35"
      }
    },
    {
      "cell_type": "code",
      "source": [
        "cifar = tf.keras.datasets.cifar10\n",
        "(x_train1, y_train1),(x_test1, y_test1) = cifar.load_data()"
      ],
      "outputs": [],
      "execution_count": 6,
      "metadata": {
        "id": "xq2vuOqvH5o0"
      }
    },
    {
      "cell_type": "code",
      "source": [
        "from tensorflow.keras.utils import to_categorical\n",
        "\n",
        "# Normalizing\n",
        "x_train1=x_train1/255\n",
        "x_test1=x_test1/255\n",
        "\n",
        "#One hot encoding\n",
        "y_train1=to_categorical(y_train1,10)\n",
        "y_test1=to_categorical(y_test1,10)"
      ],
      "outputs": [],
      "execution_count": 11,
      "metadata": {
        "id": "0wzQlpfPsSVx"
      }
    },
    {
      "cell_type": "code",
      "source": [
        "y_train2 = y_train1.flatten()\n",
        "y_test2 = y_test1.flatten()\n",
        "y_train2 = tf.one_hot(y_train2.astype(np.int32), depth=10)\n",
        "y_test2 = tf.one_hot(y_test2.astype(np.int32), depth=10)"
      ],
      "outputs": [],
      "execution_count": 50,
      "metadata": {
        "id": "lxaLxzx2-zE_"
      }
    },
    {
      "cell_type": "code",
      "source": [
        "x_train1 = x_train1.reshape(x_train1.shape[0], 32, 32, 3)\n",
        "x_test1 = x_test1.reshape(x_test1.shape[0], 32, 32, 3)"
      ],
      "outputs": [],
      "execution_count": 51,
      "metadata": {
        "id": "6jjigvJu42pS"
      }
    },
    {
      "cell_type": "code",
      "source": [
        "from keras.models import Sequential\n",
        "from keras.layers import Dense, Dropout, Activation, Flatten\n",
        "from keras.layers import Conv2D, MaxPooling2D\n",
        "model4 = Sequential()\n",
        "model4.add(Conv2D(filters=32, kernel_size=(5, 5),input_shape=(32,32,3), activation='ReLU',strides=1,padding=\"same\"))\n",
        "model4.add(MaxPooling2D((2, 2)))\n",
        "model4.add(Flatten())\n",
        "model4.add(Dense(units=100, activation='ReLU'))\n",
        "model4.add(Dense(units=10, activation = 'softmax'))\n",
        "model4.summary()"
      ],
      "outputs": [
        {
          "output_type": "stream",
          "name": "stdout",
          "text": "Model: \"sequential_1\"\n_________________________________________________________________\n Layer (type)                Output Shape              Param #   \n=================================================================\n conv2d_1 (Conv2D)           (None, 32, 32, 32)        2432      \n                                                                 \n max_pooling2d_1 (MaxPooling  (None, 16, 16, 32)       0         \n 2D)                                                             \n                                                                 \n flatten_1 (Flatten)         (None, 8192)              0         \n                                                                 \n dense_2 (Dense)             (None, 100)               819300    \n                                                                 \n dense_3 (Dense)             (None, 10)                1010      \n                                                                 \n=================================================================\nTotal params: 822,742\nTrainable params: 822,742\nNon-trainable params: 0\n_________________________________________________________________\n"
        }
      ],
      "execution_count": 12,
      "metadata": {
        "colab": {
          "base_uri": "https://localhost:8080/"
        },
        "id": "v1DeMW0RuILy",
        "outputId": "711c3177-1f79-4bb1-87c1-4ad7646d3505"
      }
    },
    {
      "cell_type": "code",
      "source": [
        "model4.compile(loss='categorical_crossentropy',optimizer='adam',metrics=['accuracy'])"
      ],
      "outputs": [],
      "execution_count": 13,
      "metadata": {
        "id": "X_P1bjlcdpJP"
      }
    },
    {
      "cell_type": "code",
      "source": [
        "history1=model4.fit(x_train1,y_train1,epochs=10,validation_data=(x_test1,y_test1))"
      ],
      "outputs": [
        {
          "output_type": "stream",
          "name": "stdout",
          "text": "Epoch 1/10\n1563/1563 [==============================] - 8s 5ms/step - loss: 1.5489 - accuracy: 0.4517 - val_loss: 1.5362 - val_accuracy: 0.4558\nEpoch 2/10\n1563/1563 [==============================] - 7s 5ms/step - loss: 1.5357 - accuracy: 0.4569 - val_loss: 1.5344 - val_accuracy: 0.4560\nEpoch 3/10\n1563/1563 [==============================] - 8s 5ms/step - loss: 1.5219 - accuracy: 0.4610 - val_loss: 1.5087 - val_accuracy: 0.4665\nEpoch 4/10\n1563/1563 [==============================] - 8s 5ms/step - loss: 1.5102 - accuracy: 0.4642 - val_loss: 1.5090 - val_accuracy: 0.4650\nEpoch 5/10\n1563/1563 [==============================] - 11s 7ms/step - loss: 1.4994 - accuracy: 0.4684 - val_loss: 1.4870 - val_accuracy: 0.4770\nEpoch 6/10\n1563/1563 [==============================] - 7s 5ms/step - loss: 1.4879 - accuracy: 0.4740 - val_loss: 1.4951 - val_accuracy: 0.4736\nEpoch 7/10\n1563/1563 [==============================] - 9s 6ms/step - loss: 1.4766 - accuracy: 0.4779 - val_loss: 1.4782 - val_accuracy: 0.4827\nEpoch 8/10\n1563/1563 [==============================] - 7s 4ms/step - loss: 1.4695 - accuracy: 0.4804 - val_loss: 1.4727 - val_accuracy: 0.4836\nEpoch 9/10\n1563/1563 [==============================] - 8s 5ms/step - loss: 1.4589 - accuracy: 0.4845 - val_loss: 1.4663 - val_accuracy: 0.4807\nEpoch 10/10\n1563/1563 [==============================] - 7s 4ms/step - loss: 1.4513 - accuracy: 0.4855 - val_loss: 1.4671 - val_accuracy: 0.4844\n"
        }
      ],
      "execution_count": 28,
      "metadata": {
        "colab": {
          "base_uri": "https://localhost:8080/"
        },
        "id": "P0yjYd53d0qN",
        "outputId": "56e040c4-b4e7-43db-93e7-53e1fa32eb9e"
      }
    },
    {
      "cell_type": "code",
      "source": [
        "test_loss, test_acc= model4.evaluate(x_test1,y_test1,verbose=2)"
      ],
      "outputs": [
        {
          "output_type": "stream",
          "name": "stdout",
          "text": "313/313 - 1s - loss: 1.5525 - accuracy: 0.4481 - 745ms/epoch - 2ms/step\n"
        }
      ],
      "execution_count": 16,
      "metadata": {
        "colab": {
          "base_uri": "https://localhost:8080/"
        },
        "id": "PlHscxx_CjGw",
        "outputId": "238ad409-0eab-4acb-ed4e-95b50d25da9b"
      }
    },
    {
      "cell_type": "code",
      "source": [
        "cifar = tf.keras.datasets.cifar10\n",
        "(x_train3, y_train3), (x_test3, y_test3) = cifar.load_data()"
      ],
      "outputs": [],
      "execution_count": 84,
      "metadata": {
        "id": "qwy_YOoBJv8T"
      }
    },
    {
      "cell_type": "code",
      "source": [
        "from os import name\n",
        "from keras.layers.attention.multi_head_attention import activation\n",
        "\n",
        "model6=tf.keras.models.Sequential()\n",
        "model6.add(tf.keras.layers.Input(shape=(32,32,3)))\n",
        "model6.add(tf.keras.layers.Conv2D(32,kernel_size=(3,3),activation=\"relu\",padding=\"same\"))\n",
        "model6.add(tf.keras.layers.MaxPooling2D(pool_size=(2,2)))\n",
        "model6.add(tf.keras.layers.Conv2D(32,kernel_size=(3,3),activation=\"relu\",padding=\"same\"))\n",
        "model6.add(tf.keras.layers.MaxPooling2D(pool_size=(2,2)))\n",
        "model6.add(tf.keras.layers.Flatten())\n",
        "model6.add(tf.keras.layers.Dense(100,activation=\"relu\"))\n",
        "model6.add(tf.keras.layers.Dense(10,name=\"OutputLayer\",activation=\"softmax\"))\n",
        "\n",
        "model6.summary()\n"
      ],
      "outputs": [
        {
          "output_type": "stream",
          "name": "stdout",
          "text": "Model: \"sequential_23\"\n_________________________________________________________________\n Layer (type)                Output Shape              Param #   \n=================================================================\n conv2d_39 (Conv2D)          (None, 32, 32, 32)        896       \n                                                                 \n max_pooling2d_22 (MaxPoolin  (None, 16, 16, 32)       0         \n g2D)                                                            \n                                                                 \n conv2d_40 (Conv2D)          (None, 16, 16, 32)        9248      \n                                                                 \n max_pooling2d_23 (MaxPoolin  (None, 8, 8, 32)         0         \n g2D)                                                            \n                                                                 \n flatten_18 (Flatten)        (None, 2048)              0         \n                                                                 \n dense_35 (Dense)            (None, 100)               204900    \n                                                                 \n OutputLayer (Dense)         (None, 10)                1010      \n                                                                 \n=================================================================\nTotal params: 216,054\nTrainable params: 216,054\nNon-trainable params: 0\n_________________________________________________________________\n"
        }
      ],
      "execution_count": 77,
      "metadata": {
        "id": "hjGG9rSqgyf2",
        "colab": {
          "base_uri": "https://localhost:8080/"
        },
        "outputId": "3a1d5248-c92e-4499-a74f-6f1e338ff0b3"
      }
    },
    {
      "cell_type": "code",
      "source": [
        "model6.compile(optimizer=\"adam\",loss=\"sparse_categorical_crossentropy\",metrics=\"accuracy\")"
      ],
      "outputs": [],
      "execution_count": 78,
      "metadata": {
        "id": "3jh0-oRsziGS"
      }
    },
    {
      "cell_type": "code",
      "source": [
        "history3=model6.fit(x_train3,y_train3,epochs=10,validation_data=(x_test3,y_test3))"
      ],
      "outputs": [
        {
          "output_type": "stream",
          "name": "stdout",
          "text": "Epoch 1/10\n1563/1563 [==============================] - 8s 5ms/step - loss: 1.3935 - accuracy: 0.1037 - val_loss: 1.3776 - val_accuracy: 0.1055\nEpoch 2/10\n1563/1563 [==============================] - 9s 6ms/step - loss: 1.1928 - accuracy: 0.1043 - val_loss: 1.2426 - val_accuracy: 0.0555\nEpoch 3/10\n1563/1563 [==============================] - 7s 5ms/step - loss: 1.0530 - accuracy: 0.0996 - val_loss: 1.1872 - val_accuracy: 0.0909\nEpoch 4/10\n1563/1563 [==============================] - 9s 6ms/step - loss: 0.9553 - accuracy: 0.1006 - val_loss: 1.1818 - val_accuracy: 0.0918\nEpoch 5/10\n1563/1563 [==============================] - 7s 5ms/step - loss: 0.8645 - accuracy: 0.1008 - val_loss: 1.1994 - val_accuracy: 0.0853\nEpoch 6/10\n1563/1563 [==============================] - 8s 5ms/step - loss: 0.7860 - accuracy: 0.1012 - val_loss: 1.1822 - val_accuracy: 0.0844\nEpoch 7/10\n1563/1563 [==============================] - 8s 5ms/step - loss: 0.7192 - accuracy: 0.1007 - val_loss: 1.2144 - val_accuracy: 0.1177\nEpoch 8/10\n1563/1563 [==============================] - 8s 5ms/step - loss: 0.6523 - accuracy: 0.1008 - val_loss: 1.2367 - val_accuracy: 0.1093\nEpoch 9/10\n1563/1563 [==============================] - 8s 5ms/step - loss: 0.6082 - accuracy: 0.0998 - val_loss: 1.3728 - val_accuracy: 0.1166\nEpoch 10/10\n1563/1563 [==============================] - 8s 5ms/step - loss: 0.5612 - accuracy: 0.1006 - val_loss: 1.3984 - val_accuracy: 0.1116\n"
        }
      ],
      "execution_count": 88,
      "metadata": {
        "id": "7gF0hIwvziDJ",
        "colab": {
          "base_uri": "https://localhost:8080/"
        },
        "outputId": "82b4dd67-c802-4821-fe5b-54b4d3484e82"
      }
    },
    {
      "cell_type": "code",
      "source": [
        "test_loss, test_acc= model6.evaluate(x_test3,y_test3,verbose=2)"
      ],
      "outputs": [
        {
          "output_type": "stream",
          "name": "stdout",
          "text": "313/313 - 1s - loss: 1.3984 - accuracy: 0.1116 - 691ms/epoch - 2ms/step\n"
        }
      ],
      "execution_count": 89,
      "metadata": {
        "colab": {
          "base_uri": "https://localhost:8080/"
        },
        "id": "5ESpVUk1KQHB",
        "outputId": "7c85c13d-ed32-48f6-88a2-73b196bfa897"
      }
    },
    {
      "cell_type": "code",
      "source": [
        "pd.DataFrame(history3.history).plot()\n"
      ],
      "outputs": [
        {
          "output_type": "execute_result",
          "execution_count": 90,
          "data": {
            "text/plain": "<AxesSubplot:>"
          },
          "metadata": {}
        },
        {
          "output_type": "display_data",
          "data": {
            "text/plain": "<Figure size 432x288 with 1 Axes>",
            "image/png": "[encoded data removed]"
          },
          "metadata": {
            "needs_background": "light"
          }
        }
      ],
      "execution_count": 90,
      "metadata": {
        "colab": {
          "base_uri": "https://localhost:8080/",
          "height": 282
        },
        "id": "gU3knNmmKWRW",
        "outputId": "c3dc5437-bac9-44b1-a0ca-9f83bc7f6ca1"
      }
    },
    {
      "cell_type": "code",
      "source": [
        "from keras.layers import AveragePooling2D\n",
        "\n",
        "lenet2 = Sequential()\n",
        "lenet2.add(Conv2D(filters=6, kernel_size=(5, 5), activation='tanh', input_shape=(32,32,3)))\n",
        "lenet2.add(AveragePooling2D())\n",
        "lenet2.add(Conv2D(filters=16, kernel_size=(5, 5), activation='tanh'))\n",
        "lenet2.add(AveragePooling2D())\n",
        "lenet2.add(Flatten())\n",
        "lenet2.add(Dense(units=120, activation='sigmoid'))\n",
        "lenet2.add(Dense(units=84, activation='sigmoid'))\n",
        "lenet2.add(Dense(units=10, activation = 'softmax')) \n",
        "lenet2.summary()"
      ],
      "outputs": [
        {
          "output_type": "stream",
          "name": "stdout",
          "text": "Model: \"sequential_10\"\n_________________________________________________________________\n Layer (type)                Output Shape              Param #   \n=================================================================\n conv2d_18 (Conv2D)          (None, 28, 28, 6)         456       \n                                                                 \n average_pooling2d_2 (Averag  (None, 14, 14, 6)        0         \n ePooling2D)                                                     \n                                                                 \n conv2d_19 (Conv2D)          (None, 10, 10, 16)        2416      \n                                                                 \n average_pooling2d_3 (Averag  (None, 5, 5, 16)         0         \n ePooling2D)                                                     \n                                                                 \n flatten_10 (Flatten)        (None, 400)               0         \n                                                                 \n dense_21 (Dense)            (None, 120)               48120     \n                                                                 \n dense_22 (Dense)            (None, 84)                10164     \n                                                                 \n dense_23 (Dense)            (None, 10)                850       \n                                                                 \n=================================================================\nTotal params: 62,006\nTrainable params: 62,006\nNon-trainable params: 0\n_________________________________________________________________\n"
        }
      ],
      "execution_count": 41,
      "metadata": {
        "colab": {
          "base_uri": "https://localhost:8080/"
        },
        "id": "a2t-Tr4eEgS6",
        "outputId": "2e43bea1-931d-4d47-a4c7-0b709c9da14f"
      }
    },
    {
      "cell_type": "code",
      "source": [
        "lenet2.compile(loss='categorical_crossentropy',optimizer='adam',metrics=['accuracy'])"
      ],
      "outputs": [],
      "execution_count": 42,
      "metadata": {
        "id": "utijedfYE3v-"
      }
    },
    {
      "cell_type": "code",
      "source": [
        "history1=lenet2.fit(x_train1,y_train1,epochs=20,validation_data=(x_test1,y_test1))"
      ],
      "outputs": [
        {
          "output_type": "stream",
          "name": "stdout",
          "text": "Epoch 1/20\n1563/1563 [==============================] - 13s 6ms/step - loss: 2.0751 - accuracy: 0.2365 - val_loss: 1.9397 - val_accuracy: 0.2907\nEpoch 2/20\n1563/1563 [==============================] - 9s 6ms/step - loss: 1.8643 - accuracy: 0.3261 - val_loss: 1.8438 - val_accuracy: 0.3375\nEpoch 3/20\n1563/1563 [==============================] - 8s 5ms/step - loss: 1.7469 - accuracy: 0.3713 - val_loss: 1.6857 - val_accuracy: 0.3881\nEpoch 4/20\n1563/1563 [==============================] - 9s 6ms/step - loss: 1.6605 - accuracy: 0.4018 - val_loss: 1.6169 - val_accuracy: 0.4165\nEpoch 5/20\n1563/1563 [==============================] - 8s 5ms/step - loss: 1.5996 - accuracy: 0.4238 - val_loss: 1.5747 - val_accuracy: 0.4365\nEpoch 6/20\n1563/1563 [==============================] - 9s 6ms/step - loss: 1.5494 - accuracy: 0.4425 - val_loss: 1.5274 - val_accuracy: 0.4502\nEpoch 7/20\n1563/1563 [==============================] - 9s 6ms/step - loss: 1.5074 - accuracy: 0.4586 - val_loss: 1.4909 - val_accuracy: 0.4688\nEpoch 8/20\n1563/1563 [==============================] - 8s 5ms/step - loss: 1.4719 - accuracy: 0.4716 - val_loss: 1.4696 - val_accuracy: 0.4756\nEpoch 9/20\n1563/1563 [==============================] - 9s 6ms/step - loss: 1.4441 - accuracy: 0.4822 - val_loss: 1.4550 - val_accuracy: 0.4733\nEpoch 10/20\n1563/1563 [==============================] - 9s 6ms/step - loss: 1.4158 - accuracy: 0.4950 - val_loss: 1.4246 - val_accuracy: 0.4880\nEpoch 11/20\n1563/1563 [==============================] - 8s 5ms/step - loss: 1.3926 - accuracy: 0.5016 - val_loss: 1.4094 - val_accuracy: 0.4891\nEpoch 12/20\n1563/1563 [==============================] - 9s 6ms/step - loss: 1.3676 - accuracy: 0.5106 - val_loss: 1.4174 - val_accuracy: 0.4892\nEpoch 13/20\n1563/1563 [==============================] - 9s 6ms/step - loss: 1.3475 - accuracy: 0.5186 - val_loss: 1.3831 - val_accuracy: 0.5045\nEpoch 14/20\n1563/1563 [==============================] - 8s 5ms/step - loss: 1.3298 - accuracy: 0.5253 - val_loss: 1.3741 - val_accuracy: 0.5019\nEpoch 15/20\n1563/1563 [==============================] - 9s 6ms/step - loss: 1.3135 - accuracy: 0.5318 - val_loss: 1.3757 - val_accuracy: 0.5046\nEpoch 16/20\n1563/1563 [==============================] - 9s 5ms/step - loss: 1.2944 - accuracy: 0.5378 - val_loss: 1.3647 - val_accuracy: 0.5037\nEpoch 17/20\n1563/1563 [==============================] - 8s 5ms/step - loss: 1.2832 - accuracy: 0.5420 - val_loss: 1.3536 - val_accuracy: 0.5146\nEpoch 18/20\n1563/1563 [==============================] - 9s 6ms/step - loss: 1.2688 - accuracy: 0.5472 - val_loss: 1.3371 - val_accuracy: 0.5178\nEpoch 19/20\n1563/1563 [==============================] - 8s 5ms/step - loss: 1.2541 - accuracy: 0.5527 - val_loss: 1.3412 - val_accuracy: 0.5193\nEpoch 20/20\n1563/1563 [==============================] - 9s 6ms/step - loss: 1.2410 - accuracy: 0.5578 - val_loss: 1.3409 - val_accuracy: 0.5203\n"
        }
      ],
      "execution_count": 43,
      "metadata": {
        "colab": {
          "base_uri": "https://localhost:8080/"
        },
        "id": "Eu4AG27FE-uI",
        "outputId": "93fe807f-1025-4f8c-bb74-8ee5e82e1af3"
      }
    },
    {
      "cell_type": "code",
      "source": [
        "test_loss, test_acc= lenet2.evaluate(x_test1,y_test1,verbose=2)"
      ],
      "outputs": [
        {
          "output_type": "stream",
          "name": "stdout",
          "text": "313/313 - 1s - loss: 1.3409 - accuracy: 0.5203 - 811ms/epoch - 3ms/step\n"
        }
      ],
      "execution_count": 45,
      "metadata": {
        "colab": {
          "base_uri": "https://localhost:8080/"
        },
        "id": "XYOq0Cd0F4HO",
        "outputId": "195dbc97-04a7-4800-9b37-56346beba9e9"
      }
    },
    {
      "cell_type": "code",
      "source": [
        "pd.DataFrame(history1.history).plot()\n"
      ],
      "outputs": [
        {
          "output_type": "execute_result",
          "execution_count": 47,
          "data": {
            "text/plain": "<AxesSubplot:>"
          },
          "metadata": {}
        },
        {
          "output_type": "display_data",
          "data": {
            "text/plain": "<Figure size 432x288 with 1 Axes>",
            "image/png": "[encoded data removed]"
          },
          "metadata": {
            "needs_background": "light"
          }
        }
      ],
      "execution_count": 47,
      "metadata": {
        "colab": {
          "base_uri": "https://localhost:8080/",
          "height": 282
        },
        "id": "GiJLUlRcGB8h",
        "outputId": "89995a6a-838c-4874-b2b0-f5056dfbb809"
      }
    },
    {
      "cell_type": "markdown",
      "source": [
        "5. Modify the architectures/hyperparameters to improve to performance."
      ],
      "metadata": {
        "id": "X8M5D3LlFRMq"
      }
    },
    {
      "cell_type": "code",
      "source": [
        "model6=Sequential()\n",
        "model6.add(Conv2D(filters=32,kernel_size=(4,4),input_shape=(32,32,3),activation='relu'))\n",
        "model6.add(MaxPooling2D(pool_size=(2,2)))\n",
        "model6.add(Dropout(0.25)) # Drop 25% of the units from the layer.\n",
        "model6.add(Conv2D(filters=32,kernel_size=(4,4),input_shape=(32,32,3),activation='relu'))\n",
        "model6.add(MaxPooling2D(pool_size=(2,2)))\n",
        "model6.add(Dropout(0.25))\n",
        "model6.add(Flatten())\n",
        "model6.add(Dense(256,activation='relu'))\n",
        "model6.add(Dense(10,activation='softmax'))"
      ],
      "outputs": [],
      "execution_count": 56,
      "metadata": {
        "id": "7pVnkvBHFVfI"
      }
    },
    {
      "cell_type": "code",
      "source": [
        "model6.compile(loss='categorical_crossentropy',optimizer='adam',metrics=['accuracy'])"
      ],
      "outputs": [],
      "execution_count": 59,
      "metadata": {
        "id": "T3X_m7CiGuiN"
      }
    },
    {
      "cell_type": "code",
      "source": [
        "history1=model6.fit(x_train1,y_train1,epochs=10,validation_data=(x_test1,y_test1))"
      ],
      "outputs": [
        {
          "output_type": "stream",
          "name": "stdout",
          "text": "Epoch 1/10\n1563/1563 [==============================] - 11s 6ms/step - loss: 2.3028 - accuracy: 0.0987 - val_loss: 2.3026 - val_accuracy: 0.1000\nEpoch 2/10\n1563/1563 [==============================] - 9s 6ms/step - loss: 2.3028 - accuracy: 0.0977 - val_loss: 2.3027 - val_accuracy: 0.1000\nEpoch 3/10\n1563/1563 [==============================] - 10s 7ms/step - loss: 2.3028 - accuracy: 0.0977 - val_loss: 2.3026 - val_accuracy: 0.1000\nEpoch 4/10\n1563/1563 [==============================] - 8s 5ms/step - loss: 2.3027 - accuracy: 0.0990 - val_loss: 2.3026 - val_accuracy: 0.1000\nEpoch 5/10\n1563/1563 [==============================] - 9s 6ms/step - loss: 2.3028 - accuracy: 0.0973 - val_loss: 2.3026 - val_accuracy: 0.1000\nEpoch 6/10\n1563/1563 [==============================] - 9s 6ms/step - loss: 2.3027 - accuracy: 0.0994 - val_loss: 2.3027 - val_accuracy: 0.1000\nEpoch 7/10\n1563/1563 [==============================] - 8s 5ms/step - loss: 2.3028 - accuracy: 0.0988 - val_loss: 2.3026 - val_accuracy: 0.1000\nEpoch 8/10\n1563/1563 [==============================] - 9s 6ms/step - loss: 2.3028 - accuracy: 0.0995 - val_loss: 2.3027 - val_accuracy: 0.1000\nEpoch 9/10\n1563/1563 [==============================] - 8s 5ms/step - loss: 2.3028 - accuracy: 0.0997 - val_loss: 2.3027 - val_accuracy: 0.1000\nEpoch 10/10\n1563/1563 [==============================] - 9s 6ms/step - loss: 2.3028 - accuracy: 0.0988 - val_loss: 2.3027 - val_accuracy: 0.1000\n"
        }
      ],
      "execution_count": 60,
      "metadata": {
        "colab": {
          "base_uri": "https://localhost:8080/"
        },
        "id": "hWU-PmkhG4bi",
        "outputId": "f35b782d-364d-44b1-984e-6b3b6c6face2"
      }
    },
    {
      "cell_type": "code",
      "source": [
        "test_loss, test_acc= model6.evaluate(x_test1,y_test1,verbose=2)"
      ],
      "outputs": [
        {
          "output_type": "stream",
          "name": "stdout",
          "text": "313/313 - 1s - loss: 2.3027 - accuracy: 0.1000 - 848ms/epoch - 3ms/step\n"
        }
      ],
      "execution_count": 61,
      "metadata": {
        "colab": {
          "base_uri": "https://localhost:8080/"
        },
        "id": "mZu5X4cKG54n",
        "outputId": "17b7802d-506d-445f-a549-b9d9bb5bd330"
      }
    },
    {
      "cell_type": "code",
      "source": [
        "pd.DataFrame(history1.history).plot()\n"
      ],
      "outputs": [
        {
          "output_type": "execute_result",
          "execution_count": 62,
          "data": {
            "text/plain": "<AxesSubplot:>"
          },
          "metadata": {}
        },
        {
          "output_type": "display_data",
          "data": {
            "text/plain": "<Figure size 432x288 with 1 Axes>",
            "image/png": "[encoded data removed]"
          },
          "metadata": {
            "needs_background": "light"
          }
        }
      ],
      "execution_count": 62,
      "metadata": {
        "colab": {
          "base_uri": "https://localhost:8080/",
          "height": 282
        },
        "id": "nRoQgcVFHG_a",
        "outputId": "be7147b9-f085-47b8-eee4-effcf88ae6c4"
      }
    }
  ],
  "metadata": {
    "colab": {
      "provenance": []
    },
    "kernelspec": {
      "name": "python",
      "language": "python",
      "display_name": "Pyolite (preview)"
    },
    "language_info": {
      "codemirror_mode": {
        "name": "python",
        "version": 3
      },
      "file_extension": ".py",
      "mimetype": "text/x-python",
      "name": "python",
      "nbconvert_exporter": "python",
      "pygments_lexer": "ipython3",
      "version": "3.8"
    },
    "accelerator": "GPU",
    "gpuClass": "standard",
    "kernel_info": {
      "name": "python"
    },
    "nteract": {
      "version": "nteract-front-end@1.0.0"
    }
  },
  "nbformat": 4,
  "nbformat_minor": 0
}